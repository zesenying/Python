{
 "cells": [
  {
   "cell_type": "code",
   "execution_count": 1,
   "id": "c8951918",
   "metadata": {},
   "outputs": [],
   "source": [
    "def fib(n):\n",
    "    if n == 1:\n",
    "        return 1\n",
    "    elif n == 2:\n",
    "        return 1\n",
    "    else:\n",
    "        return fib(n-1) + fib(n-2)"
   ]
  },
  {
   "cell_type": "code",
   "execution_count": 3,
   "id": "23e580cd",
   "metadata": {},
   "outputs": [
    {
     "data": {
      "text/plain": [
       "55"
      ]
     },
     "execution_count": 3,
     "metadata": {},
     "output_type": "execute_result"
    }
   ],
   "source": [
    "fib(10)"
   ]
  },
  {
   "cell_type": "code",
   "execution_count": 5,
   "id": "8044869d",
   "metadata": {},
   "outputs": [
    {
     "name": "stdout",
     "output_type": "stream",
     "text": [
      "1\n",
      "1\n",
      "2\n",
      "3\n",
      "5\n",
      "8\n",
      "13\n",
      "21\n",
      "34\n"
     ]
    }
   ],
   "source": [
    "for i in range(1,10):\n",
    "    print(fib(i))"
   ]
  },
  {
   "cell_type": "code",
   "execution_count": 10,
   "id": "80aaaa32",
   "metadata": {},
   "outputs": [],
   "source": [
    "def openrussiandoll(doll):\n",
    "    if doll == 1:\n",
    "        print('all opened')\n",
    "    else:\n",
    "        print(doll)\n",
    "        return openrussiandoll(doll-1)"
   ]
  },
  {
   "cell_type": "code",
   "execution_count": 11,
   "id": "6bb9e871",
   "metadata": {},
   "outputs": [
    {
     "name": "stdout",
     "output_type": "stream",
     "text": [
      "5\n",
      "4\n",
      "3\n",
      "2\n",
      "all opened\n"
     ]
    }
   ],
   "source": [
    "openrussiandoll(5)"
   ]
  },
  {
   "cell_type": "code",
   "execution_count": 25,
   "id": "9175d521",
   "metadata": {},
   "outputs": [
    {
     "data": {
      "text/plain": [
       "24"
      ]
     },
     "execution_count": 25,
     "metadata": {},
     "output_type": "execute_result"
    }
   ],
   "source": [
    "def factorial(n):\n",
    "    assert n>=0 and int(n) == n, 'number must be positive integer only'\n",
    "    if n == 1:\n",
    "        return 1\n",
    "    else: \n",
    "        return n*factorial(n-1)\n",
    "\n",
    "factorial(4)"
   ]
  },
  {
   "cell_type": "code",
   "execution_count": 45,
   "id": "120d4f9c",
   "metadata": {},
   "outputs": [
    {
     "data": {
      "text/plain": [
       "12"
      ]
     },
     "execution_count": 45,
     "metadata": {},
     "output_type": "execute_result"
    }
   ],
   "source": [
    "def sum_digit(n):\n",
    "    \n",
    "    if n < 10:\n",
    "        return n\n",
    "    else:\n",
    "        r = n % 10\n",
    "        q = n // 10\n",
    "        return r + sum_digit(q)\n",
    "        \n",
    "    \n",
    "sum_digit(345)"
   ]
  },
  {
   "cell_type": "code",
   "execution_count": null,
   "id": "2653928a",
   "metadata": {},
   "outputs": [],
   "source": []
  }
 ],
 "metadata": {
  "kernelspec": {
   "display_name": "Python 3 (ipykernel)",
   "language": "python",
   "name": "python3"
  },
  "language_info": {
   "codemirror_mode": {
    "name": "ipython",
    "version": 3
   },
   "file_extension": ".py",
   "mimetype": "text/x-python",
   "name": "python",
   "nbconvert_exporter": "python",
   "pygments_lexer": "ipython3",
   "version": "3.9.13"
  }
 },
 "nbformat": 4,
 "nbformat_minor": 5
}
