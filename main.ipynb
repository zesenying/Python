{
 "cells": [
  {
   "cell_type": "code",
   "execution_count": 1,
   "metadata": {},
   "outputs": [
    {
     "name": "stdout",
     "output_type": "stream",
     "text": [
      "done\n"
     ]
    }
   ],
   "source": [
    "import stock_fin\n",
    "import tickers\n",
    "import pandas as pd\n",
    "from yahoofinancials import YahooFinancials as YF\n",
    "import yfinance as yf\n",
    "import yahoo_fin as yahoof"
   ]
  },
  {
   "cell_type": "code",
   "execution_count": 2,
   "metadata": {},
   "outputs": [
    {
     "name": "stdout",
     "output_type": "stream",
     "text": [
      "11\n",
      "AAPL\n",
      "Initialize done\n",
      "getting data...\n",
      "error\n",
      "AMGN\n",
      "Initialize done\n",
      "getting data...\n",
      "error\n",
      "AXP\n",
      "Initialize done\n",
      "getting data...\n",
      "error\n",
      "BA\n",
      "Initialize done\n",
      "getting data...\n"
     ]
    }
   ],
   "source": [
    "print('11')\n",
    "dic = {}\n",
    "for ticker in tickers.dow_list:\n",
    "    try:\n",
    "        print(ticker)\n",
    "        s = stock_fin.stock(ticker)\n",
    "        d = s.get_fin()\n",
    "        dic[ticker] = d\n",
    "    except:\n",
    "        print('error')\n"
   ]
  },
  {
   "cell_type": "code",
   "execution_count": 36,
   "metadata": {},
   "outputs": [],
   "source": [
    "import numpy as np\n",
    "import matplotlib.pyplot as plt\n",
    "a = np.array([1,2,3,4,5])\n",
    "b = np.array([5,5/2,5/3,5/4,5/5])"
   ]
  },
  {
   "cell_type": "code",
   "execution_count": 52,
   "metadata": {},
   "outputs": [
    {
     "data": {
      "text/plain": [
       "<BarContainer object of 5 artists>"
      ]
     },
     "execution_count": 52,
     "metadata": {},
     "output_type": "execute_result"
    },
    {
     "data": {
      "image/png": "[encoded data removed]",
      "text/plain": [
       "<Figure size 640x480 with 1 Axes>"
      ]
     },
     "metadata": {},
     "output_type": "display_data"
    }
   ],
   "source": [
    "plt.bar(np.arange(0,5)  , np.log(a)) \n",
    "plt.bar(np.arange(0,5)  , np.log(a) + np.log(b),alpha = 0.5) "
   ]
  },
  {
   "cell_type": "code",
   "execution_count": 51,
   "metadata": {},
   "outputs": [
    {
     "data": {
      "text/plain": [
       "array([1.60943791, 1.60943791, 1.60943791, 1.60943791, 1.60943791])"
      ]
     },
     "execution_count": 51,
     "metadata": {},
     "output_type": "execute_result"
    }
   ],
   "source": [
    "np.log(a) + np.log(b)"
   ]
  }
 ],
 "metadata": {
  "kernelspec": {
   "display_name": "myenv",
   "language": "python",
   "name": "python3"
  },
  "language_info": {
   "codemirror_mode": {
    "name": "ipython",
    "version": 3
   },
   "file_extension": ".py",
   "mimetype": "text/x-python",
   "name": "python",
   "nbconvert_exporter": "python",
   "pygments_lexer": "ipython3",
   "version": "3.10.9"
  },
  "orig_nbformat": 4,
  "vscode": {
   "interpreter": {
    "hash": "e47b1a34c05c1e3b83a62d7885c9d1b5ef8a0522d3be0182d0a008ec409b2b3d"
   }
  }
 },
 "nbformat": 4,
 "nbformat_minor": 2
}
