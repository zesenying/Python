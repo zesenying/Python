{
 "cells": [
  {
   "cell_type": "code",
   "execution_count": 1,
   "id": "fec0026b",
   "metadata": {},
   "outputs": [],
   "source": [
    "import numpy as np"
   ]
  },
  {
   "cell_type": "code",
   "execution_count": null,
   "id": "a364dc0f",
   "metadata": {},
   "outputs": [],
   "source": [
    "## sekect the feature and threshold that max reduces label uncertainty\n",
    "## entrophy:\n",
    "## gini index:\n",
    "## classification error:\n",
    "\n",
    "gini = 1 - sum(y1**2 + 0.5**2)"
   ]
  },
  {
   "cell_type": "code",
   "execution_count": 22,
   "id": "41629155",
   "metadata": {},
   "outputs": [],
   "source": [
    "def p_y(p):\n",
    "    py = np.array([p, 1-p])\n",
    "    return py\n",
    "\n",
    "def gini(p_y):\n",
    "    return 1 - sum(p_y**2)"
   ]
  },
  {
   "cell_type": "code",
   "execution_count": 23,
   "id": "17992b9c",
   "metadata": {},
   "outputs": [
    {
     "name": "stdout",
     "output_type": "stream",
     "text": [
      "[0. 1.]\n",
      "0.0\n",
      "--\n",
      "[0.1 0.9]\n",
      "0.17999999999999994\n",
      "--\n",
      "[0.2 0.8]\n",
      "0.31999999999999984\n",
      "--\n",
      "[0.3 0.7]\n",
      "0.42000000000000004\n",
      "--\n",
      "[0.4 0.6]\n",
      "0.48\n",
      "--\n",
      "[0.5 0.5]\n",
      "0.5\n",
      "--\n",
      "[0.6 0.4]\n",
      "0.48\n",
      "--\n",
      "[0.7 0.3]\n",
      "0.41999999999999993\n",
      "--\n",
      "[0.8 0.2]\n",
      "0.31999999999999984\n",
      "--\n",
      "[0.9 0.1]\n",
      "0.17999999999999994\n",
      "--\n"
     ]
    }
   ],
   "source": [
    "for p in np.arange(0,1,0.1):\n",
    "    print(p_y(p))\n",
    "    print(gini(p_y(p)))\n",
    "    print('--')\n",
    "    \n",
    "## high gini, high uncertainty\n",
    "## low gini, low uncertainty\n",
    "\n"
   ]
  },
  {
   "cell_type": "code",
   "execution_count": 30,
   "id": "05ad23d8",
   "metadata": {},
   "outputs": [],
   "source": [
    "def info_g(gini_0,gini_l,gini_r,l,r):\n",
    "    g = gini_0 - l * gini_l - r * gini_r\n",
    "    return g"
   ]
  },
  {
   "cell_type": "code",
   "execution_count": 35,
   "id": "163c1221",
   "metadata": {},
   "outputs": [
    {
     "data": {
      "text/plain": [
       "0.31500000000000006"
      ]
     },
     "execution_count": 35,
     "metadata": {},
     "output_type": "execute_result"
    }
   ],
   "source": [
    "l = 0.5\n",
    "gini_0 = gini(p_y(l))\n",
    "gini_l = 0.5 * gini(p_y(0.7))\n",
    "gini_r = 0.5 * gini(p_y(0.8))\n",
    "info_g(gini_0,gini_l,gini_r,l,1-l)"
   ]
  },
  {
   "cell_type": "code",
   "execution_count": null,
   "id": "fca912e5",
   "metadata": {},
   "outputs": [],
   "source": [
    "## cross validation to find the average higher accuracy parameter out of possible values."
   ]
  },
  {
   "cell_type": "code",
   "execution_count": null,
   "id": "e13c2850",
   "metadata": {},
   "outputs": [],
   "source": [
    "## define 3 parameters to stock the tree\n",
    "## 1. max depth\n",
    "## 2. min sample in the node\n",
    "## 3. min info gain to continue"
   ]
  }
 ],
 "metadata": {
  "kernelspec": {
   "display_name": "Python 3 (ipykernel)",
   "language": "python",
   "name": "python3"
  },
  "language_info": {
   "codemirror_mode": {
    "name": "ipython",
    "version": 3
   },
   "file_extension": ".py",
   "mimetype": "text/x-python",
   "name": "python",
   "nbconvert_exporter": "python",
   "pygments_lexer": "ipython3",
   "version": "3.9.13"
  }
 },
 "nbformat": 4,
 "nbformat_minor": 5
}
